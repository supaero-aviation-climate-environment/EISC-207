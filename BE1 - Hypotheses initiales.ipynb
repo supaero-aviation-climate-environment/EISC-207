{
 "cells": [
  {
   "cell_type": "markdown",
   "id": "109cea4e-d42f-4359-902e-2e489b3a49a8",
   "metadata": {},
   "source": [
    "# **Partie 1 : Choix d'un récit pour l'aviation du futur**\n",
    "<a id=\"10\"></a>\n",
    "\n",
    "Suite à la fresque de l'aéronautique que vous venez de suivre, vous devez imaginer un récit pour l'aviation durable de demain, qui vous servira de base pour réaliser un scénario prospectif initial. L'objectif de ce Notebook est de récapituler les choix que vous avez fait concernant les différents enjeux de l'aviation.\n",
    "\n",
    "-----\n",
    "-----\n",
    "\n",
    "Remplissez le tableau pour les choix suivants en complétant directement la cellule.\n",
    "\n",
    "- L'objectif raisonnable pour vous est de vivre dans un monde avec une élévation de température de : 1,5 - 1,6 - 1,7 - 1,8 - 1,9 - 2°C\n",
    "\n",
    "- Vous souhaitez que cet objectif soit réalisé avec le pourcentage de réussite suivant : 17% - 33% - 50% (correspond aux valeurs médianes des études scientifiques) - 67% - 83%\n",
    "\n",
    "- Dans ce monde, l'évolution du trafic aérien entre 2020 et 2050 sera en : Baisse (exemple : -3%/an) - Stagnation (0%/an) - Augmentation (exemple : 3%/an)\n",
    "\n",
    "- L'aviation étant un secteur complexe (difficile à décarboner, utilisé par une faible part de la population, importance sur l'économie et sur l'emploi...), quelles seront les spécificités qui lui seront demandées lors de sa transition ? Des efforts plus importants que les autres secteurs (exemple : 2% du budget carbone) - Des efforts équivalents à l'ensemble des secteurs (2,6% du budget carbone) - Des marges de manoeuvre par rapport aux autres secteurs (3,2% du budget carbone)"
   ]
  },
  {
   "cell_type": "markdown",
   "id": "aa144939-b6df-43d5-9713-ce2ac5549b4d",
   "metadata": {},
   "source": [
    "|Température objectif|Pourcentage de réussite|Taux de (dé)croissance annuel du trafic aérien|Part du budget carbone mondial allouée à l'aviation|\n",
    "|--|--|--|--|\n",
    "|1,8°C|67%|+1%|2,6%|"
   ]
  },
  {
   "cell_type": "code",
   "execution_count": null,
   "id": "cec159c0-a056-4b39-8c6c-3f3c17528c1e",
   "metadata": {},
   "outputs": [],
   "source": []
  }
 ],
 "metadata": {
  "kernelspec": {
   "display_name": "Python 3 (ipykernel)",
   "language": "python",
   "name": "python3"
  },
  "language_info": {
   "codemirror_mode": {
    "name": "ipython",
    "version": 3
   },
   "file_extension": ".py",
   "mimetype": "text/x-python",
   "name": "python",
   "nbconvert_exporter": "python",
   "pygments_lexer": "ipython3",
   "version": "3.8.15"
  }
 },
 "nbformat": 4,
 "nbformat_minor": 5
}
