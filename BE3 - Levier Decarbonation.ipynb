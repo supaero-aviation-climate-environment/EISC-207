{
 "cells": [
  {
   "cell_type": "markdown",
   "id": "65e3dc19",
   "metadata": {},
   "source": [
    "# Partie 3 : Réglages pour le levier \"Décarbonation du carburant\"\n",
    "\n",
    "**Les parties 1 à 3 visent à vous aider à assimiler les notions vues en cours à partir des données de 2019. Dans la partie 4, vous devez faire des choix concernant le levier de décarbonation du carburant pour votre scénario. Dans ce BE on ne traite que les carburants drop-in.**"
   ]
  },
  {
   "cell_type": "code",
   "execution_count": null,
   "id": "ce8f70cf",
   "metadata": {},
   "outputs": [],
   "source": [
    "import numpy as np\n",
    "import matplotlib\n",
    "import matplotlib.pyplot as plt\n",
    "import pandas as pd"
   ]
  },
  {
   "cell_type": "markdown",
   "id": "3f7e7793",
   "metadata": {},
   "source": [
    "# 1. Préliminaires\n",
    "\n",
    "<!--## 1.1 Energie et émissions de l'aviation en 2019 (pré-covid)\n",
    "\n",
    "1. Allez chercher sur le [diagramme de Sankey de l'AIE](https://www.iea.org/sankey/#?c=World&s=Final%20consumption) la quantité d'énergie utilisée par le secteur aérien en 2019. Vous exprimerez votre résultat en EJ.\n",
    "\n",
    "> **Réponse**-->\n",
    "\n",
    "1. En 2019, le secteur aérien a consommé 14,4 EJ de kérosène fossile. Calculez les émissions correspondantes, en incluant les émissions amont. Vous exprimerez votre résultat en MtCO2. Vous commencerez pour cela par retrouver la valeur du facteur d'émission (FE) du kérosène fossile.\n",
    "\n",
    "> **Réponse**"
   ]
  },
  {
   "cell_type": "code",
   "execution_count": null,
   "id": "421f67a5",
   "metadata": {},
   "outputs": [],
   "source": [
    "E_embarquee = 14.4 # EJ\n",
    "FE_kero_fossile = TODO # gCO2/MJ = MtCO2/EJ\n",
    "CO2_aviation = TODO # MtCO2\n",
    "print(\"En 2019, l'aviation a généré\", round(CO2_aviation),\"Mt de CO2\")"
   ]
  },
  {
   "cell_type": "markdown",
   "id": "851c127e",
   "metadata": {},
   "source": [
    "**Dans le reste du BE, on cherche à établir certains ordres de grandeur sur les émissions de CO2 et le besoin en énergie. On imagine qu'on change le vecteur énergétique de l'ensemble de la flotte. On regarde d'abord ce qu'il se passe si tout le kérosène d'orgine fossile est remplacé par des carburants drop-in (scénario tout biocarburant dans la partie 2, puis scénario tout électrocarburant dans la partie 3), puis si la flotte d'avions conventionnels est remplacée dans son intégralité par des avions à hydrogène (partie 4).**\n",
    "\n",
    "\n",
    "# 2 Biocarburants\n",
    "\n",
    "Dans cette partie sur les biocarburants on considérera les valeurs suivantes.\n",
    "\n",
    "|Voie|Rendement de conversion|Facteur d'émission [Q1 - médiane - Q3] (MtCO2/EJ[fuel])|Sélectivité [max E-max jet]|\n",
    "|--|--|--|--|\n",
    "|FT|45%|0,3 - 7,7 - 12,6|15%-50%|\n",
    "|HEFA (huiles)|90%|20,7|15%-60%|\n",
    "|HEFA (grains)|65%|42,1 - 61 - 73,9|15%-60%|\n",
    "|ATJ|50%|33,7 - 52,2 - 68,4|15%-75%|"
   ]
  },
  {
   "cell_type": "code",
   "execution_count": null,
   "id": "90e68e6e",
   "metadata": {},
   "outputs": [],
   "source": [
    "# rendements\n",
    "rendement_FT = .45\n",
    "rendement_HEFA_UCO = .9\n",
    "rendement_HEFA_grain = .65\n",
    "rendement_ATJ = .5\n",
    "# facteurs d'émission\n",
    "FE_FT_Q1 = .3\n",
    "FE_FT_Q2 = 7.7\n",
    "FE_FT_Q3 = 12.6\n",
    "FE_HEFA_UCO = 20.7\n",
    "FE_HEFA_grain_Q1 = 42.1\n",
    "FE_HEFA_grain_Q2 = 61\n",
    "FE_HEFA_grain_Q3 = 73.9\n",
    "FE_ATJ_Q1 = 33.7\n",
    "FE_ATJ_Q2 = 52.2\n",
    "FE_ATJ_Q3 = 68.4\n",
    "# sélectivités\n",
    "sel_FT_min = .15\n",
    "sel_FT_max = .5\n",
    "sel_HEFA_min = .15\n",
    "sel_HEFA_max = .6\n",
    "sel_ATJ_min = .15\n",
    "sel_ATJ_max = .75"
   ]
  },
  {
   "cell_type": "markdown",
   "id": "014f4f82",
   "metadata": {},
   "source": [
    "Dans la première partie, on s'intéresse à un scénario simple avec une seule voie de production, puis dans les deux parties suivantes on regarde des scénarios avec un mix, défini soit par le mix de biocarburants, soit par le mix de matières premières. A chaque fois, on s'intéresse aux émissions de CO2 et aux ressources énergétiques.\n",
    "\n",
    "\n",
    "## 2.1 Scénario simple : huiles de cuisson usagées\n",
    "\n",
    "On étudie un premier scénario où l'intégralité de la flotte est alimentée par un biocarburant produit à partir d'huiles de cuisson usagées.\n",
    "\n",
    "2. Calculez la réduction d'émission. La sélectivité joue-t-elle un rôle dans le résultat ? Expliquez pourquoi.\n",
    "\n",
    "> **Réponse**"
   ]
  },
  {
   "cell_type": "code",
   "execution_count": null,
   "id": "0071fc8a",
   "metadata": {},
   "outputs": [],
   "source": [
    "print(\"Réduction dans le scénario UCO:\",round(TODO),\"%\")"
   ]
  },
  {
   "cell_type": "markdown",
   "id": "e9253322",
   "metadata": {},
   "source": [
    "3. Calculez la quantité (en EJ) de biocarburant que l'on peut produire à partir d'1 EJ d'huiles de cuisson usagées. Vous donnerez trois chiffres, un sans prendre la sélectivité en compte, un avec la valeur minimale de la sélectivité, et le dernier avec la valeur maximale de la sélectivité. Quelle est la signification de chacun de ces chiffres ?\n",
    "\n",
    "> **Réponse** "
   ]
  },
  {
   "cell_type": "code",
   "execution_count": null,
   "id": "4499c37d",
   "metadata": {},
   "outputs": [],
   "source": [
    "biocarb_UCO_min_selectivite = TODO\n",
    "biocarb_UCO_max_selectivite = TODO\n",
    "biocarb_UCO_pas_selectivite = TODO\n",
    "print(\"Quantité de biocarburant disponible, min sélectivité:\", round(TODO,1), \"EJ\")\n",
    "print(\"Quantité de biocarburant disponible, max sélectivité:\", round(TODO,1), \"EJ\")\n",
    "print(\"Quantité de biocarburant disponible, pas de sélectivité:\", round(TODO,1), \"EJ\")"
   ]
  },
  {
   "cell_type": "markdown",
   "id": "8cb9556f",
   "metadata": {},
   "source": [
    "4. Calculez la quantité totale minimale et maximale d'UCO qu'il faudrait pour alimenter l'intégralité de la flotte de 2019, et la quantité attribuable à l'aviation. La quantité attribuable dépend-elle de la sélectivité ?\n",
    "\n",
    "> **Réponse**"
   ]
  },
  {
   "cell_type": "code",
   "execution_count": null,
   "id": "9c8b26b8",
   "metadata": {},
   "outputs": [],
   "source": [
    "UCO_min = TODO\n",
    "UCO_max = TODO\n",
    "UCO_attribuable = TODO\n",
    "print(\"Biomasse totale à mobiliser, valeur minimale:\", round(TODO,1), \"EJ\")\n",
    "print(\"Biomasse totale à mobiliser, valeur maximale:\", round(TODO,1), \"EJ\")\n",
    "print(\"Biomasse attribuable:\", round(TODO,1), \"EJ\")"
   ]
  },
  {
   "cell_type": "markdown",
   "id": "2360ba1c",
   "metadata": {},
   "source": [
    "5. En 2050, les prévisions tablent sur environ 1 EJ d'huiles de cuisson usagées disponible. Commentez les résultats de la question précédente, et calculez notamment la fraction du besoin énergétique de l'aviation qu'1 EJ d'UCO aurait pu couvrir en 2019.\n",
    "\n",
    "> **Réponse**"
   ]
  },
  {
   "cell_type": "code",
   "execution_count": null,
   "id": "a3897fff",
   "metadata": {},
   "outputs": [],
   "source": []
  },
  {
   "cell_type": "markdown",
   "id": "b2891af1",
   "metadata": {},
   "source": [
    "## 2.2 Mix de biocarburants\n",
    "\n",
    "Dans cette partie on considère le mix de biocarburants suivant :\n",
    "* 5% HEFA à partir d'huiles de cuisson usagées\n",
    "* 5% HEFA à partir de graines\n",
    "* 30% ATJ\n",
    "* 60% FT"
   ]
  },
  {
   "cell_type": "code",
   "execution_count": null,
   "id": "c8afb581",
   "metadata": {},
   "outputs": [],
   "source": [
    "part_HEFA_UCO = .05\n",
    "part_HEFA_grain = .05\n",
    "part_ATJ = .3\n",
    "part_FT = .6"
   ]
  },
  {
   "cell_type": "markdown",
   "id": "11496abd",
   "metadata": {},
   "source": [
    "6. Calculez la réduction d'émission. La sélectivité joue-t-elle un rôle dans le résultat ? Expliquez pourquoi.\n",
    "\n",
    "> **Réponse**"
   ]
  },
  {
   "cell_type": "code",
   "execution_count": null,
   "id": "02ebcd80",
   "metadata": {},
   "outputs": [],
   "source": [
    "FE_mix_min = TODO\n",
    "FE_mix_max = TODO\n",
    "print(\"Réduction de\",round(TODO),\"à\",round(TODO),\"%\")"
   ]
  },
  {
   "cell_type": "markdown",
   "id": "952bc9a1",
   "metadata": {},
   "source": [
    "7. Calculez la quantité d'énergie **attribuable** nécessaire pour produire un 1 EJ sous forme du mix décrit, et déduisez-en la quantité d'énergie nécessaire pour alimenter l'intégralité de la flotte de 2019. Vos réponses dépendent-elle de la sélectivité ?"
   ]
  },
  {
   "cell_type": "code",
   "execution_count": null,
   "id": "a1d6cfe2",
   "metadata": {},
   "outputs": [],
   "source": [
    "E_mix_attribuable = TODO\n",
    "print(\"1 EJ d'output requiert\", round(TODO,1),\"EJ attribuable. Au total, il faut\", round(TODO,1),\"EJ\")"
   ]
  },
  {
   "cell_type": "markdown",
   "id": "7818dd3a",
   "metadata": {},
   "source": [
    "8. Calculez la quantité d'énergie qu'il faut physiquement mobiliser pour produire l'énergie requise. Vous donnerez une plage de valeurs et expliquerez le rôle de la sélectivité."
   ]
  },
  {
   "cell_type": "code",
   "execution_count": null,
   "id": "3cd2f6b1",
   "metadata": {},
   "outputs": [],
   "source": [
    "E_mix_min = TODO\n",
    "E_mix_max = TODO\n",
    "print(\"Il faut mobiliser entre\", round(TODO,1),\"EJ et\", round(TODO,1),\"EJ\")"
   ]
  },
  {
   "cell_type": "markdown",
   "id": "c1a70c18",
   "metadata": {},
   "source": [
    "## 2.3 Mix de matières premières\n",
    "\n",
    "On considère maintenant un mix décrit à partir des matières premières plutôt que les carburants produits. On considèrera le mix suivant :\n",
    "* 5% d'huiles de cuisson usagées\n",
    "* 5% de graines\n",
    "* 30% de cultures glucidiques\n",
    "* 60% de biomasse lignocellulosique"
   ]
  },
  {
   "cell_type": "code",
   "execution_count": null,
   "id": "551a1ed0",
   "metadata": {},
   "outputs": [],
   "source": [
    "part_UCO = .05\n",
    "part_grain = .05\n",
    "part_gl = .3\n",
    "part_lig = .6"
   ]
  },
  {
   "cell_type": "markdown",
   "id": "f24c8d59",
   "metadata": {},
   "source": [
    "9. Pour un 1 EJ de carburant produit, calculez la fraction produite à partir de chaque voie de production. Pour cela, vous prendrez la valeur maximale de sélectivité. Déduisez-en la réduction d'émissions dans ce cas.\n",
    "\n",
    ">**Réponse**"
   ]
  },
  {
   "cell_type": "code",
   "execution_count": null,
   "id": "5c09d895",
   "metadata": {},
   "outputs": [],
   "source": [
    "tot = TODO\n",
    "part_HEFA_UCO = TODO\n",
    "part_HEFA_graines = TODO\n",
    "part_ATJ = TODO\n",
    "part_FT = TODO\n",
    "print(\"Composition:\")\n",
    "print(round(100*part_HEFA_UCO),\"% HEFA à partir d'huiles de cuisson usagées\")\n",
    "print(round(100*part_HEFA_graines),\"% HEFA à partir de graines\")\n",
    "print(round(100*part_ATJ),\"% ATJ\")\n",
    "print(round(100*part_FT),\"% FT\")\n",
    "CO2_mix_min = TODO\n",
    "CO2_mix_max = TODO\n",
    "print(\"\\nEmissions de CO2:\",round(CO2_mix_min),\"-\",round(CO2_mix_max),\"MtCO2\")\n",
    "print(\"Réduction:\",round(100*(1-CO2_mix_max/CO2_aviation)),\"% -\",round(100*(1-CO2_mix_min/CO2_aviation)),\"%\")"
   ]
  },
  {
   "cell_type": "markdown",
   "id": "89cb66cd",
   "metadata": {},
   "source": [
    "10. Reprenez les questions 6, 7 et 8 avec ce nouveau mix, et commentez les résultats obtenus.\n",
    "\n",
    "> **Réponse**"
   ]
  },
  {
   "cell_type": "code",
   "execution_count": null,
   "id": "7dadcc22",
   "metadata": {},
   "outputs": [],
   "source": [
    "# Question 6\n",
    "FE_mix_min = TODO\n",
    "FE_mix_max = TODO\n",
    "print(\"Réduction de\",round(100*(1-FE_mix_max/FE_kero_fossile)),\"à\",round(100*(1-FE_mix_min/FE_kero_fossile)),\"%\")\n",
    "# Question 7\n",
    "E_mix_attribuable = TODO\n",
    "print(\"1 EJ d'output requiert\", round(E_mix_attribuable,1),\"EJ attribuable. Au total, il faut\", round(E_mix_attribuable*E_embarquee,1),\"EJ\")\n",
    "# Question 8\n",
    "E_mix_min = TODO\n",
    "E_mix_max = TODO\n",
    "print(\"Il faut mobiliser entre\", round(E_mix_min*E_embarquee,1),\"EJ et\", round(E_mix_max*E_embarquee,1),\"EJ\")"
   ]
  },
  {
   "cell_type": "markdown",
   "id": "24d695ce",
   "metadata": {},
   "source": [
    "11. Reprenez la question précédente 9 en utilisant les valeurs basses pour la sélectivité. Quelle évolution anticipez-vous sur les émissions ? et la consommation énergétique ? Vérifiez vos résultats en reprenant les questions 6 à 8.\n",
    "\n",
    ">**Réponse**"
   ]
  },
  {
   "cell_type": "code",
   "execution_count": null,
   "id": "e1d6bc4b",
   "metadata": {},
   "outputs": [],
   "source": [
    "tot = TODO\n",
    "part_HEFA_UCO = TODO\n",
    "part_HEFA_graines = TODO\n",
    "part_ATJ = TODO\n",
    "part_FT = TODO\n",
    "print(\"Composition:\")\n",
    "print(round(100*part_HEFA_UCO),\"% HEFA à partir d'huiles de cuisson usagées\")\n",
    "print(round(100*part_HEFA_graines),\"% HEFA à partir de graines\")\n",
    "print(round(100*part_ATJ),\"% ATJ\")\n",
    "print(round(100*part_FT),\"% FT\")\n",
    "CO2_mix_min = TODO\n",
    "CO2_mix_max = TODO\n",
    "# Question 6\n",
    "FE_mix_min = TODO\n",
    "FE_mix_max = TODO\n",
    "print(\"\\nRéduction de\",round(100*(1-FE_mix_max/FE_kero_fossile)),\"à\",round(100*(1-FE_mix_min/FE_kero_fossile)),\"%\")\n",
    "# Question 7\n",
    "E_mix_attribuable = TODO\n",
    "print(\"1 EJ d'output requiert\", round(E_mix_attribuable,1),\"EJ attribuable. Au total, il faut\", round(E_mix_attribuable*E_embarquee,1),\"EJ\")\n",
    "# Question 8\n",
    "E_mix_min = TODO\n",
    "E_mix_max = TODO\n",
    "print(\"Il faut mobiliser entre\", round(E_mix_min*E_embarquee,1),\"EJ et\", round(E_mix_max*E_embarquee,1),\"EJ\")"
   ]
  },
  {
   "cell_type": "markdown",
   "id": "c912de2a",
   "metadata": {},
   "source": [
    "# 3 Electrocarburants\n",
    "\n",
    "On suppose maintenant que l'ensemble de la flotte est alimentée par des électrocarburants. On considère deux scénarios :\n",
    "- mix global actuel : facteur d'émission de la production d'électricité à 120 MtCO2/EJ[elec]\n",
    "- mix bas carbone (renouvelable et nucléaire) : facteur d'émission de la production d'électricité à 5 MtCO2/EJ[elec]"
   ]
  },
  {
   "cell_type": "code",
   "execution_count": null,
   "id": "0b91582a",
   "metadata": {},
   "outputs": [],
   "source": [
    "FE_elec_actuel = 120\n",
    "FE_elec_bas_C = 5"
   ]
  },
  {
   "cell_type": "markdown",
   "id": "580cb5c5",
   "metadata": {},
   "source": [
    "12. Rappelez les paramètres qui influencent les différentes valeurs de rendement de production des électrocarburants. Faites un choix que vous justifierez succinctement.\n",
    "\n",
    "> **Réponse**"
   ]
  },
  {
   "cell_type": "code",
   "execution_count": null,
   "id": "9ba80ac9",
   "metadata": {},
   "outputs": [],
   "source": [
    "rendement_efuel = TODO\n",
    "print(\"Dans la suite, on prendra la valeur de\",round(100*rendement_efuel),\"% pour le rendement des électrocarburants\")"
   ]
  },
  {
   "cell_type": "markdown",
   "id": "ff1b3347",
   "metadata": {},
   "source": [
    "13. Dans le tableau précédent sur les biocarburants, quelles sont les valeurs pertinentes de sélectivité ? Vous justifierez votre réponse.\n",
    "\n",
    ">**Réponse**"
   ]
  },
  {
   "cell_type": "code",
   "execution_count": null,
   "id": "4f4fc303",
   "metadata": {},
   "outputs": [],
   "source": [
    "sel_efuel_min = TODO\n",
    "sel_efuel_max = TODO\n",
    "print(\"Pour les électrocarburants, la sélectivité se situe entre\",round(100*sel_efuel_min),\"% et\", round(100*sel_efuel_max),\"%\")"
   ]
  },
  {
   "cell_type": "markdown",
   "id": "fb151f17",
   "metadata": {},
   "source": [
    "14. Quelle est la fourchette de la quantité totale d'électricité qu'il faudrait mobiliser si toute la flotte de 2019 utilisait des électrocarburants ? Quelle partie de cette électricité est spécifiquement attribuable à l'aviation ?\n",
    "\n",
    "> **Réponse**"
   ]
  },
  {
   "cell_type": "code",
   "execution_count": null,
   "id": "7bec587b",
   "metadata": {},
   "outputs": [],
   "source": [
    "efuel_besoin_elec_min = TODO\n",
    "efuel_besoin_elec_max = TODO\n",
    "efuel_besoin_allocation = TODO\n",
    "print(\"Il faut mobiliser entre\", round(efuel_besoin_elec_min),\"et\", round(efuel_besoin_elec_max),\"EJ\")\n",
    "print(\"Cela correspond à une part attribuable de\", round(efuel_besoin_allocation),\"EJ\")"
   ]
  },
  {
   "cell_type": "markdown",
   "id": "ff9f262f",
   "metadata": {},
   "source": [
    "15. Comparez ces chiffres à l'électricité produite en 2019 (97 EJ d'électricité totale, dont 36 EJ de bas carbone) et commentez les résultats obtenus.\n",
    "\n",
    "> **Réponse**"
   ]
  },
  {
   "cell_type": "code",
   "execution_count": null,
   "id": "d506ae71",
   "metadata": {},
   "outputs": [],
   "source": []
  },
  {
   "cell_type": "markdown",
   "id": "37a65e80",
   "metadata": {},
   "source": [
    "16. Calculez les émissions correspondantes et commentez les résultats obtenus.\n",
    "\n",
    "> **Réponse**"
   ]
  },
  {
   "cell_type": "code",
   "execution_count": null,
   "id": "25aaa4a6",
   "metadata": {},
   "outputs": [],
   "source": [
    "CO2_efuel_actuel = TODO\n",
    "CO2_efuel_bas_C = TODO\n",
    "print(\"Emissions de CO2:\")\n",
    "print(\"- Mix actuel:\", round(CO2_efuel_actuel), \"MtCO2 (réduction:\",round(100*(1-CO2_efuel_actuel/CO2_aviation)),\"%)\")\n",
    "print(\"- Mix bas carbone:\", round(CO2_efuel_bas_C), \"MtCO2 (réduction:\",round(100*(1-CO2_efuel_bas_C/CO2_aviation)),\"%)\")"
   ]
  },
  {
   "cell_type": "markdown",
   "id": "68cb62e8",
   "metadata": {},
   "source": [
    "17. A partir de quel facteur d'émission les électrocarburants sont-ils bénéfiques par rapport au kérosène fossile ?"
   ]
  },
  {
   "cell_type": "code",
   "execution_count": null,
   "id": "1a65e7bd",
   "metadata": {},
   "outputs": [],
   "source": [
    "FE_min = TODO\n",
    "print(\"Le facteur d'émission minimal vaut\", round(FE_min), \"MtCO2/EJ\")"
   ]
  },
  {
   "cell_type": "markdown",
   "id": "bd18a1e1",
   "metadata": {},
   "source": [
    "18. A partir de la figure ci-dessous qui indique l'évolution du mix électrique en fonction du temps dans différents scénarios de l'IRENA, déterminez approximativement la date à partir les électrocarburants deviendraient bénéfiques par rapport au kérosène fossile. Commentez notamment la trajectoire actuelle (scénario PES - Planned Energy Scenario)\n",
    "\n",
    "![title](Figures/evolution-elec.png)\n",
    "\n",
    ">**Réponse**"
   ]
  },
  {
   "cell_type": "markdown",
   "id": "095d03da",
   "metadata": {},
   "source": [
    "# 4 Scénario en 2050\n",
    "\n",
    "On se place maintenant en 2050. On supposera néanmoins que les voies de production sont identiques en 2050 qu'en 2019, en particulier vous utiliserez les mêmes valeurs de sélectivité, rendement, etc, que dans les parties précédentes.\n",
    "\n",
    "19. A partir de vos hypothèses précédentes (évolution du trafic, de l'efficacité, etc), déterminez la quantité d'énergie embarquée nécessaire pour 2050.\n",
    "\n",
    ">**Réponse**"
   ]
  },
  {
   "cell_type": "code",
   "execution_count": null,
   "id": "b5deb778",
   "metadata": {},
   "outputs": [],
   "source": [
    "E_embarquee_2050 = TODO"
   ]
  },
  {
   "cell_type": "markdown",
   "id": "67573216",
   "metadata": {},
   "source": [
    "20. Choisissez un mix de biocarburants (FT/HEFA/AJT) et d'électrocarburants. Calculez les émissions de CO2 correspondantes en explicitant les différents choix que vous aurez faits, et commentez le résultats obtenus.\n",
    "\n",
    "> **Réponse**"
   ]
  },
  {
   "cell_type": "code",
   "execution_count": null,
   "id": "bb2f44a4",
   "metadata": {},
   "outputs": [],
   "source": [
    "# Mix\n",
    "part_efuel_2050 = TODO\n",
    "part_HEFA_UCO_2050 = TODO\n",
    "part_HEFA_grain_2050 = TODO\n",
    "part_ATJ_2050 = TODO\n",
    "part_FT_2050 = TODO\n",
    "# Besoins électricité (attribution)\n",
    "besoin_elec_2050 = TODO\n",
    "# Emissions\n",
    "CO2_2050 = TODO\n",
    "print(\"Emissions:\",CO2_2050,\"MtCO2\")"
   ]
  },
  {
   "cell_type": "markdown",
   "id": "985bf048",
   "metadata": {},
   "source": [
    "21. Calculez la quantité d'énergie nécessaire, et commentez les résultats obtenus au vu du tableau suivant qui donne des plages de valeurs de quantités d'énergie disponible en 2050.\n",
    "\n",
    "|Energie primaire|Q1|Q2|Q3|\n",
    "|--|--|--|--|\n",
    "|Waste (MSW+FOG)|10|11|16|\n",
    "|Agricultural residues|30|57|102|\n",
    "|Forest residues|15|17|36|\n",
    "|Energy crops|37|63|108|\n",
    "|Electricity|168|197|236|\n",
    "\n",
    "\n",
    "> **Réponse**"
   ]
  },
  {
   "cell_type": "code",
   "execution_count": null,
   "id": "a32b9591",
   "metadata": {},
   "outputs": [],
   "source": [
    "# Besoins énergie (attribution)\n",
    "besoin_UCO_2050 = TODO\n",
    "besoin_grain_2050 = TODO\n",
    "besoin_gl_2050 = TODO\n",
    "besoin_lig_2050 = TODO\n",
    "print(\"Besoins en énergie:\")\n",
    "print(\"- Electricité:\",round(besoin_elec_2050,1),\"EJ\")\n",
    "print(\"- Huiles cuisson usagées:\",round(besoin_UCO_2050,1),\"EJ\")\n",
    "print(\"- Cultures lipidiques :\",round(besoin_grain_2050,1),\"EJ\")\n",
    "print(\"- Cultures glucidiques :\",round(besoin_gl_2050,1),\"EJ\")\n",
    "print(\"- Cultures lignocellulosiques :\",round(besoin_lig_2050,1),\"EJ\")"
   ]
  },
  {
   "cell_type": "markdown",
   "id": "791a8064",
   "metadata": {},
   "source": [
    "22. Au lieu de déterminer un mix de carburants, déterminez un mix énergétique utilisable pour l'aviation, incluant si besoin du kérosène d'origine fossile. Calculez les émissions correspondantes."
   ]
  },
  {
   "cell_type": "code",
   "execution_count": null,
   "id": "164f5ae0",
   "metadata": {},
   "outputs": [],
   "source": []
  }
 ],
 "metadata": {
  "kernelspec": {
   "display_name": "Python 3 (ipykernel)",
   "language": "python",
   "name": "python3"
  },
  "language_info": {
   "codemirror_mode": {
    "name": "ipython",
    "version": 3
   },
   "file_extension": ".py",
   "mimetype": "text/x-python",
   "name": "python",
   "nbconvert_exporter": "python",
   "pygments_lexer": "ipython3",
   "version": "3.8.19"
  }
 },
 "nbformat": 4,
 "nbformat_minor": 5
}
