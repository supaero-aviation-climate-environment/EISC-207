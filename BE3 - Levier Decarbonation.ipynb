{
 "cells": [
  {
   "cell_type": "markdown",
   "id": "2b4ed13c",
   "metadata": {},
   "source": [
    "# Partie 3 : Réglages pour le levier \"Décarbonation du carburant\"\n",
    "<a id=\"10\"></a>\n"
   ]
  },
  {
   "cell_type": "code",
   "execution_count": 2,
   "id": "1b5fd106",
   "metadata": {},
   "outputs": [],
   "source": [
    "import numpy as np\n",
    "import matplotlib.pyplot as plt\n",
    "import pandas as pd"
   ]
  },
  {
   "cell_type": "markdown",
   "id": "b6c164cb",
   "metadata": {},
   "source": [
    "---\n",
    "---\n",
    "# 1. Préliminaires\n",
    "\n",
    "## 1.1 Energie et émissions de l'aviation en 2019 (pré-covid)\n",
    "\n",
    "1. Allez chercher sur le [diagramme de Sankey de l'AIE](https://www.iea.org/sankey/#?c=World&s=Final%20consumption) la quantité d'énergie utilisée par le secteur aérien en 2019. Vous exprimerez votre résultat en EJ.\n",
    "\n",
    "> **Réponse**"
   ]
  },
  {
   "cell_type": "code",
   "execution_count": null,
   "id": "db548dbd",
   "metadata": {},
   "outputs": [],
   "source": [
    "E_primaire_aviation_2019 = # EJ"
   ]
  },
  {
   "cell_type": "markdown",
   "id": "934afabb",
   "metadata": {},
   "source": [
    "2. Calculez les émissions correspondantes, en incluant les émissions amont. Vous exprimerez votre résultat en MtCO2.\n",
    "\n",
    "> **Réponse**"
   ]
  },
  {
   "cell_type": "code",
   "execution_count": null,
   "id": "41f9bb35",
   "metadata": {},
   "outputs": [],
   "source": [
    "CO2_aviation_2019 = # MtCO2"
   ]
  },
  {
   "cell_type": "markdown",
   "id": "66607a58",
   "metadata": {},
   "source": [
    "## 1.2 Energie et émissions de l'aviation en 2050\n",
    "\n",
    "3. A partir de vos estimations des BE précédents, calculez la consommation énergétique (en EJ) du secteur aérien en 2050 pour une flotte alimentée à partir de kérosène.\n",
    "\n",
    "> **Réponse**"
   ]
  },
  {
   "cell_type": "code",
   "execution_count": null,
   "id": "fa0a7488",
   "metadata": {},
   "outputs": [],
   "source": [
    "E_primaire_aviation_2050 = # EJ"
   ]
  },
  {
   "cell_type": "markdown",
   "id": "3d2d78e1",
   "metadata": {},
   "source": [
    "4. Calculez les émissions correspondantes, en incluant les émissions amont. Vous exprimerez votre résultat en MtCO2.\n",
    "\n",
    "> **Réponse**"
   ]
  },
  {
   "cell_type": "code",
   "execution_count": null,
   "id": "ea686231",
   "metadata": {},
   "outputs": [],
   "source": [
    "CO2_aviation_2050 = # MtCO2"
   ]
  },
  {
   "cell_type": "markdown",
   "id": "48c7a914",
   "metadata": {},
   "source": [
    "---\n",
    "# 2. Etude des nouveaux vecteurs énergétiques par rapport au contexte actuel\n",
    "\n",
    "Dans cette partie, on cherche à établir certains ordres de grandeur sur les émissions de CO2 et le besoin en énergie. On imagine qu'on change le vecteur énergétique de l'ensemble de la flotte. On regarde d'abord ce qu'il se passe si tout le kérosène d'orgine fossile est remplacé par des carburants drop-in (scénario tout biocarburant dans la partie 2.1, puis scénario tout électrocarburant dans la partie 2.2), puis si la flotte d'avions conventionnels est remplacée dans son intégralité par des avions à hydrogène (partie 2.3)."
   ]
  },
  {
   "cell_type": "markdown",
   "id": "95aab5ab",
   "metadata": {},
   "source": [
    "---\n",
    "## 2.1 Biocarburants\n",
    "\n",
    "On considère un mix de cultures lipidiques (10% dont la moitié à partir d'huiles de cuisson usagées, et la moitié à partir de graines), de cultures glucidiques (30%) et de cultures lignocellulosiques (60%). On prendra les valeurs suivantes (vous êtes libres de faire votre choix lorsque certaines valeurs sont soumises à des incertitudes/variations).\n",
    "\n",
    "|Voie|Rendement de conversion|Facteur d'émission [Q1 - médiane - Q3] (gCO2/MJ)|Sélectivité [max E-max jet]|\n",
    "|--|--|--|--|\n",
    "|FT|45%|0,3 - 7,7 - 12,6|15%-50%|\n",
    "|HEFA (huiles)|90%|20,7|15%-60%|\n",
    "|HEFA (grains)|65%|42,1 - 61 - 73,9|15%-60%|\n",
    "|ATJ|50%|33,7 - 52,2 - 68,4|15%-75%|\n",
    "\n",
    "1. Quelle serait la quantité totale de biomasse qu'il faut mobiliser si toute la flotte de 2019 utilisait des biocarburants sous les hypothèses précédentes ? Quelle partie de cette biomasse est spécifiquement attribuable à l'aviation ?\n",
    "\n",
    "> **Réponse**"
   ]
  },
  {
   "cell_type": "code",
   "execution_count": null,
   "id": "73eff9ae",
   "metadata": {},
   "outputs": [],
   "source": [
    "biocarburants_biomasse_totale_2019 = 14*(0.3*0.5*0.5+0.6*0.45*0.4+# EJ\n",
    "biocarburants_biomasse_aviation_2019 = # EJ"
   ]
  },
  {
   "cell_type": "markdown",
   "id": "3f5d1689",
   "metadata": {},
   "source": [
    "2. Comparez ces chiffres à la bioénergie disponible en 2020 (57 EJ) et commentez les résultats obtenus.\n",
    "\n",
    "> **Réponse**"
   ]
  },
  {
   "cell_type": "code",
   "execution_count": null,
   "id": "e16c265c",
   "metadata": {},
   "outputs": [],
   "source": []
  },
  {
   "cell_type": "markdown",
   "id": "f0a3e4a2",
   "metadata": {},
   "source": [
    "3. Calculez les émissions correspondantes et commentez les résultats obtenus.\n",
    "\n",
    "> **Réponse**"
   ]
  },
  {
   "cell_type": "code",
   "execution_count": null,
   "id": "778ed0e3",
   "metadata": {},
   "outputs": [],
   "source": [
    "biocarburants_CO2_2019 = # MtCO2"
   ]
  },
  {
   "cell_type": "markdown",
   "id": "0018e41b",
   "metadata": {},
   "source": [
    "---\n",
    "## 2.2 Electrocarburants\n",
    "\n",
    "On suppose maintenant que l'ensemble de la flotte est alimentée par des électrocarburants. On considère deux valeurs de mix électrique :\n",
    "- mix global actuel : 120 gCO2/MJ\n",
    "- mix renouvelable et nucléaire actuel : 5 gCO2/MJ"
   ]
  },
  {
   "cell_type": "markdown",
   "id": "be71627f",
   "metadata": {},
   "source": [
    "1. Rappelez les paramètres qui influencent les différentes valeurs de rendement de production des électrocarburants. Faites un choix que vous justifierez succinctement.\n",
    "\n",
    "> **Réponse**"
   ]
  },
  {
   "cell_type": "code",
   "execution_count": null,
   "id": "354a77c2",
   "metadata": {},
   "outputs": [],
   "source": [
    "rendement_electrocarburant = 0.5"
   ]
  },
  {
   "cell_type": "markdown",
   "id": "0f4b20e4",
   "metadata": {},
   "source": [
    "2. Quelle serait la quantité totale d'électricité qu'il faudrait produire si toute la flotte de 2019 utilisait des électrocarburants ? Quelle partie de cette électricité est spécifiquement attribuablte à l'aviation ?\n",
    "\n",
    "> **Réponse**"
   ]
  },
  {
   "cell_type": "code",
   "execution_count": null,
   "id": "004dadb3",
   "metadata": {},
   "outputs": [],
   "source": [
    "electrocarburants_elec_totale_2019 = 14/0.5/0.15# EJ\n",
    "electrocarburants_elec_aviation_2019 = 14/0.5# EJ"
   ]
  },
  {
   "cell_type": "markdown",
   "id": "8ae4c4ca",
   "metadata": {},
   "source": [
    "3. Comparez ces chiffres à l'électricité produite en 2019 (97 EJ d'électricité totale, dont 36 EJ de renouvelable et nucléaire) et commentez les résultats obtenus.\n",
    "\n",
    "> **Réponse**"
   ]
  },
  {
   "cell_type": "code",
   "execution_count": null,
   "id": "7bc49188",
   "metadata": {},
   "outputs": [],
   "source": []
  },
  {
   "cell_type": "markdown",
   "id": "a9d6a3ff",
   "metadata": {},
   "source": [
    "4. Calculez les émissions correspondantes et commentez les résultats obtenus.\n",
    "\n",
    "> **Réponse**"
   ]
  },
  {
   "cell_type": "code",
   "execution_count": null,
   "id": "cd5f0180",
   "metadata": {},
   "outputs": [],
   "source": [
    "electrocarburants_CO2_2019_mix = 28*120# MtCO2\n",
    "electrocarburants_CO2_2019_bas_carbone = # MtCO2"
   ]
  },
  {
   "cell_type": "markdown",
   "id": "46cd8cc3",
   "metadata": {},
   "source": [
    "---\n",
    "## 2.3 Avion à hydrogène\n",
    "\n",
    "On suppose maintenant que l'ensemble de la flotte est remplacée par des avions à hydrogène.\n",
    "\n",
    "1. Choisissez et justifiez succinctement une valeur d'évolution du besoin en énergie embarquée, que vous utiliserez par la suite.\n",
    "\n",
    "> **Réponse**"
   ]
  },
  {
   "cell_type": "code",
   "execution_count": null,
   "id": "3871913d",
   "metadata": {},
   "outputs": [],
   "source": [
    "hydrogene_E_embarquee_2019 = +10%# EJ"
   ]
  },
  {
   "cell_type": "markdown",
   "id": "f958724b",
   "metadata": {},
   "source": [
    "2. Calculez la quantité d'hydrogène nécessaire pour alimenter l'intégralité de la flotte. Comparez par rapport à la production d'hydrogène en 2020 et commentez ce résultat."
   ]
  },
  {
   "cell_type": "code",
   "execution_count": null,
   "id": "69161769",
   "metadata": {},
   "outputs": [],
   "source": [
    "hydrogene_quantite_2019 = 14**1.1"
   ]
  },
  {
   "cell_type": "markdown",
   "id": "0709ecb8",
   "metadata": {},
   "source": [
    "3. Avec les hypothèses que vous avez choisies, calculez la quantité d'électricité nécessaire pour liquéfier l'hydrogène."
   ]
  },
  {
   "cell_type": "code",
   "execution_count": null,
   "id": "b4a07ec1",
   "metadata": {},
   "outputs": [],
   "source": [
    "hydrogene_elec_liquefaction_2019 = 14.1.1*120*40# EJ"
   ]
  },
  {
   "cell_type": "markdown",
   "id": "c6e50b30",
   "metadata": {},
   "source": [
    "4. En utilisant les valeurs du mix électrique actuel (cf partie 2.2), calculez les émissions de CO2 liées à la liquéfaction de l'hydrogène."
   ]
  },
  {
   "cell_type": "code",
   "execution_count": null,
   "id": "f52158ff",
   "metadata": {},
   "outputs": [],
   "source": [
    "hydrogene_CO2_liquefaction_2019_mix = # MtCO2\n",
    "hydrogene_CO2_liquefaction_2019_bas_carbone = # MtCO2"
   ]
  },
  {
   "cell_type": "markdown",
   "id": "39c954f0",
   "metadata": {},
   "source": [
    "5. On suppose que l'hydrogène est produit avec les méthodes actuelles de production. Calculez les émissions de CO2 liées à la production de l'hydrogène puis les émissions totales, et commentez les résultats obtenus."
   ]
  },
  {
   "cell_type": "code",
   "execution_count": null,
   "id": "4a5ef0d1",
   "metadata": {},
   "outputs": [],
   "source": [
    "hydrogene_CO2_prod_methodes_actuelles_2019 = # MtCO2\n",
    "hydrogene_CO2_tot_methodes_actuelles_2019 = hydrogene_CO2_prod_methodes_actuelles_2019 + hydrogene_CO2_liquefaction_2019_mix# MtCO2"
   ]
  },
  {
   "cell_type": "markdown",
   "id": "befe265e",
   "metadata": {},
   "source": [
    "Dans les deux dernières questions, on suppose que l'hydrogène est produit par électrolyse de l'eau.\n",
    "\n",
    "6. Calculez la quantité d'électricité nécessaire pour produire l'hydrogène sous forme gazeuse, puis la quantité d'électricité totale. Commentez les résultats obtenus.\n",
    "\n",
    "> **Réponse**"
   ]
  },
  {
   "cell_type": "code",
   "execution_count": null,
   "id": "54383ac5",
   "metadata": {},
   "outputs": [],
   "source": [
    "hydrogene_elec_prod_2019 = hydrogene_quantite_2019/0.6# EJ\n",
    "hydrogene_elec_tot_2019 = hydrogene_elec_prod_2019 + hydrogene_elec_liquefaction_2019 # EJ"
   ]
  },
  {
   "cell_type": "markdown",
   "id": "a8dbd0de",
   "metadata": {},
   "source": [
    "7. Calculez enfin les émissions de CO2 dans ce scénario. Vous utiliserez les mêmes valeurs d'intensité carbone de l'électricité que dans la partie 2.2.\n",
    "\n",
    "> **Réponse**"
   ]
  },
  {
   "cell_type": "code",
   "execution_count": null,
   "id": "66836005",
   "metadata": {},
   "outputs": [],
   "source": [
    "hydrogene_CO2_tot_electrolyse_2019_mix = hydrogene_elec_tot_2019 *120# MtCO2\n",
    "hydrogene_CO2_tot_electrolyse_2019_bas_carbone = hydrogene_elec_tot_2019*5 # MtCO2"
   ]
  },
  {
   "cell_type": "markdown",
   "id": "21bf1d82",
   "metadata": {},
   "source": [
    "---\n",
    "# 3 Scénario en 2050\n",
    "\n",
    "On se place maintenant en 2050 : les besoins énergétiques d'une aviation conventionnelle (alimentée par des carburants drop-in) ont été déterminés dans la partie 1.2. On suppose qu'en 2050, la flotte se compose de:\n",
    "- 70% d'avions conventionnels, dont la moitié alimentée par des électrocarburants et la moitié par des biocarburants\n",
    "- 30% d'avions à hydrogène"
   ]
  },
  {
   "cell_type": "markdown",
   "id": "191c2832",
   "metadata": {},
   "source": [
    "1. Choisissez un mix de biocarburants (FT/HEFA/AJT) et calculez la quantité de biomasse totale nécessaire, la quantité de biomasse attribuable à l'aviation et les émissions de CO2 correspondantes. Vous pourrez garder les mêmes valeurs pour les différents paramètres qu'en 2019. Commentez les résultats obtenus.\n",
    "\n",
    "> **Réponse**"
   ]
  },
  {
   "cell_type": "code",
   "execution_count": null,
   "id": "48fc880b",
   "metadata": {},
   "outputs": [],
   "source": []
  },
  {
   "cell_type": "markdown",
   "id": "d561e36d",
   "metadata": {},
   "source": [
    "2. A partir des données suivantes (issues de l'IRENA), faites un choix de disponibilité en bioénergie en 2050. Comparez la quantité de bioénergie calculée à la question précédente à cette valeur, et commentez le résultat.\n",
    "\n",
    "> **Réponse**"
   ]
  },
  {
   "cell_type": "code",
   "execution_count": 3,
   "id": "a4e38aa4",
   "metadata": {},
   "outputs": [
    {
     "name": "stdout",
     "output_type": "stream",
     "text": [
      "Waste (MSW + FOG)        11.55\n",
      "Agricultural residues    56.87\n",
      "Forest residues          17.12\n",
      "Energy crops             63.48\n",
      "dtype: float64\n"
     ]
    },
    {
     "data": {
      "image/png": "[encoded data removed]",
      "text/plain": [
       "<Figure size 432x288 with 1 Axes>"
      ]
     },
     "metadata": {
      "needs_background": "light"
     },
     "output_type": "display_data"
    }
   ],
   "source": [
    "dispo_bio = pd.read_csv(\"./Data/dispo-bio-2050.csv\")\n",
    "dispo_bio.boxplot()\n",
    "print(dispo_bio.median())"
   ]
  },
  {
   "cell_type": "markdown",
   "id": "667b10e1",
   "metadata": {},
   "source": [
    "3. Calculez la quantité d'électricité nécessaire et les émissions de CO2 associées : vous justifierez notamment succinctement l'intensité carbone de votre mix électrique. Commentez les résultats obtenus.\n",
    "\n",
    "> **Réponse**"
   ]
  },
  {
   "cell_type": "code",
   "execution_count": null,
   "id": "c55e1daa",
   "metadata": {},
   "outputs": [],
   "source": []
  },
  {
   "cell_type": "markdown",
   "id": "78d38d8f",
   "metadata": {},
   "source": [
    "4. A partir des données suivantes (issues de scénarios prospectifs du GIEC, de l'IRENA, de l'AIE et de Shell), faites un choix de disponibilité en électricité en 2050. Comparez la quantité d'électricité calculée à la question précédente à cette valeur, et commentez le résultat.\n",
    "\n",
    "> **Réponse**"
   ]
  },
  {
   "cell_type": "code",
   "execution_count": 3,
   "id": "c13c03f3",
   "metadata": {},
   "outputs": [
    {
     "name": "stdout",
     "output_type": "stream",
     "text": [
      "197.0\n"
     ]
    },
    {
     "data": {
      "image/png": "[encoded data removed]",
      "text/plain": [
       "<Figure size 432x288 with 1 Axes>"
      ]
     },
     "metadata": {
      "needs_background": "light"
     },
     "output_type": "display_data"
    }
   ],
   "source": [
    "dispo_elec = pd.read_csv(\"./Data/dispo-elec-2050.csv\")\n",
    "dispo_elec.boxplot(column=['prod elec 2050'])\n",
    "print(dispo_elec['prod elec 2050'].median())"
   ]
  },
  {
   "cell_type": "code",
   "execution_count": null,
   "id": "25041c3b-5414-4783-aaec-8597b7b3640e",
   "metadata": {},
   "outputs": [],
   "source": []
  }
 ],
 "metadata": {
  "kernelspec": {
   "display_name": "Python 3 (ipykernel)",
   "language": "python",
   "name": "python3"
  },
  "language_info": {
   "codemirror_mode": {
    "name": "ipython",
    "version": 3
   },
   "file_extension": ".py",
   "mimetype": "text/x-python",
   "name": "python",
   "nbconvert_exporter": "python",
   "pygments_lexer": "ipython3",
   "version": "3.10.10"
  }
 },
 "nbformat": 4,
 "nbformat_minor": 5
}
